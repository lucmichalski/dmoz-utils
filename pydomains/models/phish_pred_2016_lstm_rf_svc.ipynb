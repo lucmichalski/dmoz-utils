{
 "cells": [
  {
   "cell_type": "code",
   "execution_count": 1,
   "metadata": {},
   "outputs": [
    {
     "data": {
      "text/html": [
       "<div>\n",
       "<style scoped>\n",
       "    .dataframe tbody tr th:only-of-type {\n",
       "        vertical-align: middle;\n",
       "    }\n",
       "\n",
       "    .dataframe tbody tr th {\n",
       "        vertical-align: top;\n",
       "    }\n",
       "\n",
       "    .dataframe thead th {\n",
       "        text-align: right;\n",
       "    }\n",
       "</style>\n",
       "<table border=\"1\" class=\"dataframe\">\n",
       "  <thead>\n",
       "    <tr style=\"text-align: right;\">\n",
       "      <th></th>\n",
       "      <th>ID</th>\n",
       "      <th>Phish URL</th>\n",
       "      <th>Submitted</th>\n",
       "      <th>Valid?</th>\n",
       "      <th>Online?</th>\n",
       "      <th>url</th>\n",
       "      <th>date</th>\n",
       "      <th>domain</th>\n",
       "    </tr>\n",
       "  </thead>\n",
       "  <tbody>\n",
       "    <tr>\n",
       "      <th>0</th>\n",
       "      <td>3720185</td>\n",
       "      <td>http://facebooktayimagen.elpajarito.info/added...</td>\n",
       "      <td>by cleanmx</td>\n",
       "      <td>VALID PHISH</td>\n",
       "      <td>Offline</td>\n",
       "      <td>http://facebooktayimagen.elpajarito.info/</td>\n",
       "      <td>2015-12-31 08:50:00</td>\n",
       "      <td>facebooktayimagen.elpajarito.info</td>\n",
       "    </tr>\n",
       "    <tr>\n",
       "      <th>1</th>\n",
       "      <td>3720184</td>\n",
       "      <td>http://www.otsk.org/wp-content/www.ing.be/smar...</td>\n",
       "      <td>by cleanmx</td>\n",
       "      <td>VALID PHISH</td>\n",
       "      <td>Offline</td>\n",
       "      <td>http://www.otsk.org/wp-content/www.ing.be/smar...</td>\n",
       "      <td>2015-12-31 08:50:00</td>\n",
       "      <td>www.otsk.org</td>\n",
       "    </tr>\n",
       "    <tr>\n",
       "      <th>2</th>\n",
       "      <td>3720166</td>\n",
       "      <td>http://401771-deutschland-nutzung-angabe-nachw...</td>\n",
       "      <td>by cleanmx</td>\n",
       "      <td>VALID PHISH</td>\n",
       "      <td>Offline</td>\n",
       "      <td>http://401771-deutschland-nutzung-angabe-nachw...</td>\n",
       "      <td>2015-12-31 08:47:00</td>\n",
       "      <td>401771-deutschland-nutzung-angabe-nachweis.sic...</td>\n",
       "    </tr>\n",
       "    <tr>\n",
       "      <th>3</th>\n",
       "      <td>3720158</td>\n",
       "      <td>http://www.galatikohorio.com/dropboxfile/dropb...</td>\n",
       "      <td>by cleanmx</td>\n",
       "      <td>VALID PHISH</td>\n",
       "      <td>Offline</td>\n",
       "      <td>http://www.galatikohorio.com/dropboxfile/dropb...</td>\n",
       "      <td>2015-12-31 08:46:00</td>\n",
       "      <td>www.galatikohorio.com</td>\n",
       "    </tr>\n",
       "    <tr>\n",
       "      <th>4</th>\n",
       "      <td>3720152</td>\n",
       "      <td>http://shapecasting.com/images/35ba965121316b8...</td>\n",
       "      <td>by cleanmx</td>\n",
       "      <td>VALID PHISH</td>\n",
       "      <td>Offline</td>\n",
       "      <td>http://shapecasting.com/images/35ba965121316b8...</td>\n",
       "      <td>2015-12-31 08:45:00</td>\n",
       "      <td>shapecasting.com</td>\n",
       "    </tr>\n",
       "    <tr>\n",
       "      <th>...</th>\n",
       "      <td>...</td>\n",
       "      <td>...</td>\n",
       "      <td>...</td>\n",
       "      <td>...</td>\n",
       "      <td>...</td>\n",
       "      <td>...</td>\n",
       "      <td>...</td>\n",
       "      <td>...</td>\n",
       "    </tr>\n",
       "    <tr>\n",
       "      <th>188195</th>\n",
       "      <td>4717101</td>\n",
       "      <td>http://adsinfengering-departs-info07.16mb.com/...</td>\n",
       "      <td>by leofelix</td>\n",
       "      <td>VALID PHISH</td>\n",
       "      <td>Offline</td>\n",
       "      <td>http://adsinfengering-departs-info07.16mb.com/...</td>\n",
       "      <td>2016-12-31 23:58:00</td>\n",
       "      <td>adsinfengering-departs-info07.16mb.com</td>\n",
       "    </tr>\n",
       "    <tr>\n",
       "      <th>188196</th>\n",
       "      <td>4717093</td>\n",
       "      <td>http://sendmypacket.com/c16/added on Dec 31st ...</td>\n",
       "      <td>by cleanmx</td>\n",
       "      <td>VALID PHISH</td>\n",
       "      <td>Offline</td>\n",
       "      <td>http://sendmypacket.com/c16/</td>\n",
       "      <td>2016-12-31 23:40:00</td>\n",
       "      <td>sendmypacket.com</td>\n",
       "    </tr>\n",
       "    <tr>\n",
       "      <th>188197</th>\n",
       "      <td>4717036</td>\n",
       "      <td>https://loading-please-wait-thank-you.blogspot...</td>\n",
       "      <td>by PhishReporter</td>\n",
       "      <td>VALID PHISH</td>\n",
       "      <td>Offline</td>\n",
       "      <td>https://loading-please-wait-thank-you.blogspot...</td>\n",
       "      <td>2016-12-31 21:57:00</td>\n",
       "      <td>loading-please-wait-thank-you.blogspot.com</td>\n",
       "    </tr>\n",
       "    <tr>\n",
       "      <th>188198</th>\n",
       "      <td>4717021</td>\n",
       "      <td>http://uniplastica.pt/libraries/tcpdf/config/A...</td>\n",
       "      <td>by cleanmx</td>\n",
       "      <td>VALID PHISH</td>\n",
       "      <td>Offline</td>\n",
       "      <td>http://uniplastica.pt/libraries/tcpdf/config/A...</td>\n",
       "      <td>2016-12-31 21:46:00</td>\n",
       "      <td>uniplastica.pt</td>\n",
       "    </tr>\n",
       "    <tr>\n",
       "      <th>188199</th>\n",
       "      <td>4717001</td>\n",
       "      <td>http://teampage.at.ua/facebook-php.htmladded o...</td>\n",
       "      <td>by leofelix</td>\n",
       "      <td>VALID PHISH</td>\n",
       "      <td>Offline</td>\n",
       "      <td>http://teampage.at.ua/facebook-php.html</td>\n",
       "      <td>2016-12-31 21:03:00</td>\n",
       "      <td>teampage.at.ua</td>\n",
       "    </tr>\n",
       "  </tbody>\n",
       "</table>\n",
       "<p>188200 rows × 8 columns</p>\n",
       "</div>"
      ],
      "text/plain": [
       "             ID                                          Phish URL  \\\n",
       "0       3720185  http://facebooktayimagen.elpajarito.info/added...   \n",
       "1       3720184  http://www.otsk.org/wp-content/www.ing.be/smar...   \n",
       "2       3720166  http://401771-deutschland-nutzung-angabe-nachw...   \n",
       "3       3720158  http://www.galatikohorio.com/dropboxfile/dropb...   \n",
       "4       3720152  http://shapecasting.com/images/35ba965121316b8...   \n",
       "...         ...                                                ...   \n",
       "188195  4717101  http://adsinfengering-departs-info07.16mb.com/...   \n",
       "188196  4717093  http://sendmypacket.com/c16/added on Dec 31st ...   \n",
       "188197  4717036  https://loading-please-wait-thank-you.blogspot...   \n",
       "188198  4717021  http://uniplastica.pt/libraries/tcpdf/config/A...   \n",
       "188199  4717001  http://teampage.at.ua/facebook-php.htmladded o...   \n",
       "\n",
       "               Submitted       Valid?  Online?  \\\n",
       "0             by cleanmx  VALID PHISH  Offline   \n",
       "1             by cleanmx  VALID PHISH  Offline   \n",
       "2             by cleanmx  VALID PHISH  Offline   \n",
       "3             by cleanmx  VALID PHISH  Offline   \n",
       "4             by cleanmx  VALID PHISH  Offline   \n",
       "...                  ...          ...      ...   \n",
       "188195       by leofelix  VALID PHISH  Offline   \n",
       "188196        by cleanmx  VALID PHISH  Offline   \n",
       "188197  by PhishReporter  VALID PHISH  Offline   \n",
       "188198        by cleanmx  VALID PHISH  Offline   \n",
       "188199       by leofelix  VALID PHISH  Offline   \n",
       "\n",
       "                                                      url  \\\n",
       "0               http://facebooktayimagen.elpajarito.info/   \n",
       "1       http://www.otsk.org/wp-content/www.ing.be/smar...   \n",
       "2       http://401771-deutschland-nutzung-angabe-nachw...   \n",
       "3       http://www.galatikohorio.com/dropboxfile/dropb...   \n",
       "4       http://shapecasting.com/images/35ba965121316b8...   \n",
       "...                                                   ...   \n",
       "188195  http://adsinfengering-departs-info07.16mb.com/...   \n",
       "188196                       http://sendmypacket.com/c16/   \n",
       "188197  https://loading-please-wait-thank-you.blogspot...   \n",
       "188198  http://uniplastica.pt/libraries/tcpdf/config/A...   \n",
       "188199            http://teampage.at.ua/facebook-php.html   \n",
       "\n",
       "                       date                                             domain  \n",
       "0       2015-12-31 08:50:00                  facebooktayimagen.elpajarito.info  \n",
       "1       2015-12-31 08:50:00                                       www.otsk.org  \n",
       "2       2015-12-31 08:47:00  401771-deutschland-nutzung-angabe-nachweis.sic...  \n",
       "3       2015-12-31 08:46:00                              www.galatikohorio.com  \n",
       "4       2015-12-31 08:45:00                                   shapecasting.com  \n",
       "...                     ...                                                ...  \n",
       "188195  2016-12-31 23:58:00             adsinfengering-departs-info07.16mb.com  \n",
       "188196  2016-12-31 23:40:00                                   sendmypacket.com  \n",
       "188197  2016-12-31 21:57:00         loading-please-wait-thank-you.blogspot.com  \n",
       "188198  2016-12-31 21:46:00                                     uniplastica.pt  \n",
       "188199  2016-12-31 21:03:00                                     teampage.at.ua  \n",
       "\n",
       "[188200 rows x 8 columns]"
      ]
     },
     "execution_count": 1,
     "metadata": {},
     "output_type": "execute_result"
    }
   ],
   "source": [
    "from __future__ import print_function\n",
    "\n",
    "import numpy as np\n",
    "import tensorflow as tf\n",
    "import pandas as pd\n",
    "from sklearn.feature_extraction.text import CountVectorizer\n",
    "from sklearn.model_selection import train_test_split\n",
    "from sklearn.metrics import classification_report,confusion_matrix\n",
    "\n",
    "# https://machinelearningmastery.com/reproducible-results-neural-networks-keras/\n",
    "np.random.seed(1)\n",
    "tf.random.set_seed(2)\n",
    "\n",
    "NGRAMS = 2\n",
    "FEATURE_LEN = 128\n",
    "EPOCHS = 15\n",
    "SAMPLES = 50000\n",
    "\n",
    "df = pd.read_csv('../train-test/data/phishtank_2016.csv.bz2')\n",
    "df.dropna(subset=['domain'], inplace=True)\n",
    "df"
   ]
  },
  {
   "cell_type": "code",
   "execution_count": 2,
   "metadata": {},
   "outputs": [
    {
     "data": {
      "text/html": [
       "<div>\n",
       "<style scoped>\n",
       "    .dataframe tbody tr th:only-of-type {\n",
       "        vertical-align: middle;\n",
       "    }\n",
       "\n",
       "    .dataframe tbody tr th {\n",
       "        vertical-align: top;\n",
       "    }\n",
       "\n",
       "    .dataframe thead th {\n",
       "        text-align: right;\n",
       "    }\n",
       "</style>\n",
       "<table border=\"1\" class=\"dataframe\">\n",
       "  <thead>\n",
       "    <tr style=\"text-align: right;\">\n",
       "      <th></th>\n",
       "      <th>ID</th>\n",
       "      <th>Phish URL</th>\n",
       "      <th>Submitted</th>\n",
       "      <th>Valid?</th>\n",
       "      <th>Online?</th>\n",
       "      <th>url</th>\n",
       "      <th>date</th>\n",
       "      <th>domain</th>\n",
       "    </tr>\n",
       "  </thead>\n",
       "  <tbody>\n",
       "    <tr>\n",
       "      <th>0</th>\n",
       "      <td>3720185</td>\n",
       "      <td>http://facebooktayimagen.elpajarito.info/added...</td>\n",
       "      <td>by cleanmx</td>\n",
       "      <td>VALID PHISH</td>\n",
       "      <td>Offline</td>\n",
       "      <td>http://facebooktayimagen.elpajarito.info/</td>\n",
       "      <td>2015-12-31 08:50:00</td>\n",
       "      <td>facebooktayimagen.elpajarito.info</td>\n",
       "    </tr>\n",
       "    <tr>\n",
       "      <th>1</th>\n",
       "      <td>3720184</td>\n",
       "      <td>http://www.otsk.org/wp-content/www.ing.be/smar...</td>\n",
       "      <td>by cleanmx</td>\n",
       "      <td>VALID PHISH</td>\n",
       "      <td>Offline</td>\n",
       "      <td>http://www.otsk.org/wp-content/www.ing.be/smar...</td>\n",
       "      <td>2015-12-31 08:50:00</td>\n",
       "      <td>www.otsk.org</td>\n",
       "    </tr>\n",
       "    <tr>\n",
       "      <th>2</th>\n",
       "      <td>3720166</td>\n",
       "      <td>http://401771-deutschland-nutzung-angabe-nachw...</td>\n",
       "      <td>by cleanmx</td>\n",
       "      <td>VALID PHISH</td>\n",
       "      <td>Offline</td>\n",
       "      <td>http://401771-deutschland-nutzung-angabe-nachw...</td>\n",
       "      <td>2015-12-31 08:47:00</td>\n",
       "      <td>401771-deutschland-nutzung-angabe-nachweis.sic...</td>\n",
       "    </tr>\n",
       "    <tr>\n",
       "      <th>3</th>\n",
       "      <td>3720158</td>\n",
       "      <td>http://www.galatikohorio.com/dropboxfile/dropb...</td>\n",
       "      <td>by cleanmx</td>\n",
       "      <td>VALID PHISH</td>\n",
       "      <td>Offline</td>\n",
       "      <td>http://www.galatikohorio.com/dropboxfile/dropb...</td>\n",
       "      <td>2015-12-31 08:46:00</td>\n",
       "      <td>www.galatikohorio.com</td>\n",
       "    </tr>\n",
       "    <tr>\n",
       "      <th>4</th>\n",
       "      <td>3720152</td>\n",
       "      <td>http://shapecasting.com/images/35ba965121316b8...</td>\n",
       "      <td>by cleanmx</td>\n",
       "      <td>VALID PHISH</td>\n",
       "      <td>Offline</td>\n",
       "      <td>http://shapecasting.com/images/35ba965121316b8...</td>\n",
       "      <td>2015-12-31 08:45:00</td>\n",
       "      <td>shapecasting.com</td>\n",
       "    </tr>\n",
       "    <tr>\n",
       "      <th>...</th>\n",
       "      <td>...</td>\n",
       "      <td>...</td>\n",
       "      <td>...</td>\n",
       "      <td>...</td>\n",
       "      <td>...</td>\n",
       "      <td>...</td>\n",
       "      <td>...</td>\n",
       "      <td>...</td>\n",
       "    </tr>\n",
       "    <tr>\n",
       "      <th>188193</th>\n",
       "      <td>4717141</td>\n",
       "      <td>http://wellsfargo-online19.890m.com/online/ban...</td>\n",
       "      <td>by prebytes</td>\n",
       "      <td>VALID PHISH</td>\n",
       "      <td>Offline</td>\n",
       "      <td>http://wellsfargo-online19.890m.com/online/ban...</td>\n",
       "      <td>2017-01-01 01:16:00</td>\n",
       "      <td>wellsfargo-online19.890m.com</td>\n",
       "    </tr>\n",
       "    <tr>\n",
       "      <th>188194</th>\n",
       "      <td>4717131</td>\n",
       "      <td>http://kanoasfloripa.com.br/drokeycrewrti/2f44...</td>\n",
       "      <td>by prebytes</td>\n",
       "      <td>VALID PHISH</td>\n",
       "      <td>Offline</td>\n",
       "      <td>http://kanoasfloripa.com.br/drokeycrewrti/2f44...</td>\n",
       "      <td>2017-01-01 01:15:00</td>\n",
       "      <td>kanoasfloripa.com.br</td>\n",
       "    </tr>\n",
       "    <tr>\n",
       "      <th>188195</th>\n",
       "      <td>4717101</td>\n",
       "      <td>http://adsinfengering-departs-info07.16mb.com/...</td>\n",
       "      <td>by leofelix</td>\n",
       "      <td>VALID PHISH</td>\n",
       "      <td>Offline</td>\n",
       "      <td>http://adsinfengering-departs-info07.16mb.com/...</td>\n",
       "      <td>2016-12-31 23:58:00</td>\n",
       "      <td>adsinfengering-departs-info07.16mb.com</td>\n",
       "    </tr>\n",
       "    <tr>\n",
       "      <th>188197</th>\n",
       "      <td>4717036</td>\n",
       "      <td>https://loading-please-wait-thank-you.blogspot...</td>\n",
       "      <td>by PhishReporter</td>\n",
       "      <td>VALID PHISH</td>\n",
       "      <td>Offline</td>\n",
       "      <td>https://loading-please-wait-thank-you.blogspot...</td>\n",
       "      <td>2016-12-31 21:57:00</td>\n",
       "      <td>loading-please-wait-thank-you.blogspot.com</td>\n",
       "    </tr>\n",
       "    <tr>\n",
       "      <th>188198</th>\n",
       "      <td>4717021</td>\n",
       "      <td>http://uniplastica.pt/libraries/tcpdf/config/A...</td>\n",
       "      <td>by cleanmx</td>\n",
       "      <td>VALID PHISH</td>\n",
       "      <td>Offline</td>\n",
       "      <td>http://uniplastica.pt/libraries/tcpdf/config/A...</td>\n",
       "      <td>2016-12-31 21:46:00</td>\n",
       "      <td>uniplastica.pt</td>\n",
       "    </tr>\n",
       "  </tbody>\n",
       "</table>\n",
       "<p>84930 rows × 8 columns</p>\n",
       "</div>"
      ],
      "text/plain": [
       "             ID                                          Phish URL  \\\n",
       "0       3720185  http://facebooktayimagen.elpajarito.info/added...   \n",
       "1       3720184  http://www.otsk.org/wp-content/www.ing.be/smar...   \n",
       "2       3720166  http://401771-deutschland-nutzung-angabe-nachw...   \n",
       "3       3720158  http://www.galatikohorio.com/dropboxfile/dropb...   \n",
       "4       3720152  http://shapecasting.com/images/35ba965121316b8...   \n",
       "...         ...                                                ...   \n",
       "188193  4717141  http://wellsfargo-online19.890m.com/online/ban...   \n",
       "188194  4717131  http://kanoasfloripa.com.br/drokeycrewrti/2f44...   \n",
       "188195  4717101  http://adsinfengering-departs-info07.16mb.com/...   \n",
       "188197  4717036  https://loading-please-wait-thank-you.blogspot...   \n",
       "188198  4717021  http://uniplastica.pt/libraries/tcpdf/config/A...   \n",
       "\n",
       "               Submitted       Valid?  Online?  \\\n",
       "0             by cleanmx  VALID PHISH  Offline   \n",
       "1             by cleanmx  VALID PHISH  Offline   \n",
       "2             by cleanmx  VALID PHISH  Offline   \n",
       "3             by cleanmx  VALID PHISH  Offline   \n",
       "4             by cleanmx  VALID PHISH  Offline   \n",
       "...                  ...          ...      ...   \n",
       "188193       by prebytes  VALID PHISH  Offline   \n",
       "188194       by prebytes  VALID PHISH  Offline   \n",
       "188195       by leofelix  VALID PHISH  Offline   \n",
       "188197  by PhishReporter  VALID PHISH  Offline   \n",
       "188198        by cleanmx  VALID PHISH  Offline   \n",
       "\n",
       "                                                      url  \\\n",
       "0               http://facebooktayimagen.elpajarito.info/   \n",
       "1       http://www.otsk.org/wp-content/www.ing.be/smar...   \n",
       "2       http://401771-deutschland-nutzung-angabe-nachw...   \n",
       "3       http://www.galatikohorio.com/dropboxfile/dropb...   \n",
       "4       http://shapecasting.com/images/35ba965121316b8...   \n",
       "...                                                   ...   \n",
       "188193  http://wellsfargo-online19.890m.com/online/ban...   \n",
       "188194  http://kanoasfloripa.com.br/drokeycrewrti/2f44...   \n",
       "188195  http://adsinfengering-departs-info07.16mb.com/...   \n",
       "188197  https://loading-please-wait-thank-you.blogspot...   \n",
       "188198  http://uniplastica.pt/libraries/tcpdf/config/A...   \n",
       "\n",
       "                       date                                             domain  \n",
       "0       2015-12-31 08:50:00                  facebooktayimagen.elpajarito.info  \n",
       "1       2015-12-31 08:50:00                                       www.otsk.org  \n",
       "2       2015-12-31 08:47:00  401771-deutschland-nutzung-angabe-nachweis.sic...  \n",
       "3       2015-12-31 08:46:00                              www.galatikohorio.com  \n",
       "4       2015-12-31 08:45:00                                   shapecasting.com  \n",
       "...                     ...                                                ...  \n",
       "188193  2017-01-01 01:16:00                       wellsfargo-online19.890m.com  \n",
       "188194  2017-01-01 01:15:00                               kanoasfloripa.com.br  \n",
       "188195  2016-12-31 23:58:00             adsinfengering-departs-info07.16mb.com  \n",
       "188197  2016-12-31 21:57:00         loading-please-wait-thank-you.blogspot.com  \n",
       "188198  2016-12-31 21:46:00                                     uniplastica.pt  \n",
       "\n",
       "[84930 rows x 8 columns]"
      ]
     },
     "execution_count": 2,
     "metadata": {},
     "output_type": "execute_result"
    }
   ],
   "source": [
    "sdf = df.drop_duplicates('domain')\n",
    "sdf"
   ]
  },
  {
   "cell_type": "code",
   "execution_count": 3,
   "metadata": {},
   "outputs": [],
   "source": [
    "try:\n",
    "    sdf.groupby('target').agg({'domain': 'count'})\n",
    "except:\n",
    "    pass"
   ]
  },
  {
   "cell_type": "code",
   "execution_count": 4,
   "metadata": {},
   "outputs": [
    {
     "data": {
      "text/html": [
       "<div>\n",
       "<style scoped>\n",
       "    .dataframe tbody tr th:only-of-type {\n",
       "        vertical-align: middle;\n",
       "    }\n",
       "\n",
       "    .dataframe tbody tr th {\n",
       "        vertical-align: top;\n",
       "    }\n",
       "\n",
       "    .dataframe thead th {\n",
       "        text-align: right;\n",
       "    }\n",
       "</style>\n",
       "<table border=\"1\" class=\"dataframe\">\n",
       "  <thead>\n",
       "    <tr style=\"text-align: right;\">\n",
       "      <th></th>\n",
       "      <th>rank</th>\n",
       "      <th>domain</th>\n",
       "    </tr>\n",
       "  </thead>\n",
       "  <tbody>\n",
       "    <tr>\n",
       "      <th>0</th>\n",
       "      <td>1</td>\n",
       "      <td>google.com</td>\n",
       "    </tr>\n",
       "    <tr>\n",
       "      <th>1</th>\n",
       "      <td>2</td>\n",
       "      <td>youtube.com</td>\n",
       "    </tr>\n",
       "    <tr>\n",
       "      <th>2</th>\n",
       "      <td>3</td>\n",
       "      <td>facebook.com</td>\n",
       "    </tr>\n",
       "    <tr>\n",
       "      <th>3</th>\n",
       "      <td>4</td>\n",
       "      <td>baidu.com</td>\n",
       "    </tr>\n",
       "    <tr>\n",
       "      <th>4</th>\n",
       "      <td>5</td>\n",
       "      <td>wikipedia.org</td>\n",
       "    </tr>\n",
       "    <tr>\n",
       "      <th>...</th>\n",
       "      <td>...</td>\n",
       "      <td>...</td>\n",
       "    </tr>\n",
       "    <tr>\n",
       "      <th>999995</th>\n",
       "      <td>999996</td>\n",
       "      <td>liberty-shopping.us</td>\n",
       "    </tr>\n",
       "    <tr>\n",
       "      <th>999996</th>\n",
       "      <td>999997</td>\n",
       "      <td>uazz.pl</td>\n",
       "    </tr>\n",
       "    <tr>\n",
       "      <th>999997</th>\n",
       "      <td>999998</td>\n",
       "      <td>waltonsun.com</td>\n",
       "    </tr>\n",
       "    <tr>\n",
       "      <th>999998</th>\n",
       "      <td>999999</td>\n",
       "      <td>aspvv.it</td>\n",
       "    </tr>\n",
       "    <tr>\n",
       "      <th>999999</th>\n",
       "      <td>1000000</td>\n",
       "      <td>wetterklima.de</td>\n",
       "    </tr>\n",
       "  </tbody>\n",
       "</table>\n",
       "<p>1000000 rows × 2 columns</p>\n",
       "</div>"
      ],
      "text/plain": [
       "           rank               domain\n",
       "0             1           google.com\n",
       "1             2          youtube.com\n",
       "2             3         facebook.com\n",
       "3             4            baidu.com\n",
       "4             5        wikipedia.org\n",
       "...         ...                  ...\n",
       "999995   999996  liberty-shopping.us\n",
       "999996   999997              uazz.pl\n",
       "999997   999998        waltonsun.com\n",
       "999998   999999             aspvv.it\n",
       "999999  1000000       wetterklima.de\n",
       "\n",
       "[1000000 rows x 2 columns]"
      ]
     },
     "execution_count": 4,
     "metadata": {},
     "output_type": "execute_result"
    }
   ],
   "source": [
    "adf = pd.read_csv('../train-test/data/top-1m.csv.zip', header=None)\n",
    "adf.columns = ['rank', 'domain']\n",
    "adf"
   ]
  },
  {
   "cell_type": "code",
   "execution_count": 5,
   "metadata": {},
   "outputs": [],
   "source": [
    "ldf = adf[['domain']].head(SAMPLES)\n",
    "pdf = sdf[['domain']].sample(SAMPLES, random_state=21)"
   ]
  },
  {
   "cell_type": "code",
   "execution_count": 6,
   "metadata": {},
   "outputs": [
    {
     "data": {
      "text/html": [
       "<div>\n",
       "<style scoped>\n",
       "    .dataframe tbody tr th:only-of-type {\n",
       "        vertical-align: middle;\n",
       "    }\n",
       "\n",
       "    .dataframe tbody tr th {\n",
       "        vertical-align: top;\n",
       "    }\n",
       "\n",
       "    .dataframe thead th {\n",
       "        text-align: right;\n",
       "    }\n",
       "</style>\n",
       "<table border=\"1\" class=\"dataframe\">\n",
       "  <thead>\n",
       "    <tr style=\"text-align: right;\">\n",
       "      <th></th>\n",
       "      <th>domain</th>\n",
       "      <th>phishing</th>\n",
       "    </tr>\n",
       "  </thead>\n",
       "  <tbody>\n",
       "    <tr>\n",
       "      <th>0</th>\n",
       "      <td>google.com</td>\n",
       "      <td>False</td>\n",
       "    </tr>\n",
       "    <tr>\n",
       "      <th>1</th>\n",
       "      <td>youtube.com</td>\n",
       "      <td>False</td>\n",
       "    </tr>\n",
       "    <tr>\n",
       "      <th>2</th>\n",
       "      <td>facebook.com</td>\n",
       "      <td>False</td>\n",
       "    </tr>\n",
       "    <tr>\n",
       "      <th>3</th>\n",
       "      <td>baidu.com</td>\n",
       "      <td>False</td>\n",
       "    </tr>\n",
       "    <tr>\n",
       "      <th>4</th>\n",
       "      <td>wikipedia.org</td>\n",
       "      <td>False</td>\n",
       "    </tr>\n",
       "    <tr>\n",
       "      <th>...</th>\n",
       "      <td>...</td>\n",
       "      <td>...</td>\n",
       "    </tr>\n",
       "    <tr>\n",
       "      <th>93530</th>\n",
       "      <td>keralahillstationtours.com</td>\n",
       "      <td>True</td>\n",
       "    </tr>\n",
       "    <tr>\n",
       "      <th>78728</th>\n",
       "      <td>comprendrelaphotographie.ch</td>\n",
       "      <td>True</td>\n",
       "    </tr>\n",
       "    <tr>\n",
       "      <th>110950</th>\n",
       "      <td>bataviaestudio.com</td>\n",
       "      <td>True</td>\n",
       "    </tr>\n",
       "    <tr>\n",
       "      <th>42136</th>\n",
       "      <td>zvcd1a88-aa-system.fulba.com</td>\n",
       "      <td>True</td>\n",
       "    </tr>\n",
       "    <tr>\n",
       "      <th>150913</th>\n",
       "      <td>thelabrador.org</td>\n",
       "      <td>True</td>\n",
       "    </tr>\n",
       "  </tbody>\n",
       "</table>\n",
       "<p>100000 rows × 2 columns</p>\n",
       "</div>"
      ],
      "text/plain": [
       "                              domain  phishing\n",
       "0                         google.com     False\n",
       "1                        youtube.com     False\n",
       "2                       facebook.com     False\n",
       "3                          baidu.com     False\n",
       "4                      wikipedia.org     False\n",
       "...                              ...       ...\n",
       "93530     keralahillstationtours.com      True\n",
       "78728    comprendrelaphotographie.ch      True\n",
       "110950            bataviaestudio.com      True\n",
       "42136   zvcd1a88-aa-system.fulba.com      True\n",
       "150913               thelabrador.org      True\n",
       "\n",
       "[100000 rows x 2 columns]"
      ]
     },
     "execution_count": 6,
     "metadata": {},
     "output_type": "execute_result"
    }
   ],
   "source": [
    "ldf['phishing'] = False\n",
    "pdf['phishing'] = True\n",
    "tdf = pd.concat([ldf, pdf])\n",
    "tdf"
   ]
  },
  {
   "cell_type": "markdown",
   "metadata": {},
   "source": [
    "## Preprocessing the input data"
   ]
  },
  {
   "cell_type": "code",
   "execution_count": 7,
   "metadata": {},
   "outputs": [
    {
     "name": "stdout",
     "output_type": "stream",
     "text": [
      "num_words = 1465\n"
     ]
    },
    {
     "data": {
      "text/plain": [
       "array([list([107, 111, 128, 273, 28, 6, 0, 0, 0]),\n",
       "       list([283, 73, 139, 159, 208, 133, 6, 0, 0, 0]),\n",
       "       list([187, 44, 59, 122, 157, 111, 220, 149, 0, 0, 0]), ...,\n",
       "       list([84, 21, 36, 216, 87, 68, 348, 8, 17, 159, 234, 80, 58, 20, 0, 0, 0]),\n",
       "       list([978, 660, 497, 813, 830, 984, 534, 895, 236, 287, 306, 178, 243, 230, 17, 14, 114, 13, 186, 305, 193, 371, 84, 18, 0, 0, 0]),\n",
       "       list([103, 79, 50, 46, 160, 60, 22, 71, 117, 5, 53, 69, 5, 64])],\n",
       "      dtype=object)"
      ]
     },
     "execution_count": 7,
     "metadata": {},
     "output_type": "execute_result"
    }
   ],
   "source": [
    "if True:\n",
    "    # build n-gram list\n",
    "    vect = CountVectorizer(analyzer='char', max_df=0.3, min_df=3, ngram_range=(NGRAMS, NGRAMS), lowercase=False) \n",
    "    #vect = CountVectorizer(analyzer='char', ngram_range=(NGRAMS, NGRAMS), lowercase=False) \n",
    "    a = vect.fit_transform(tdf.domain)\n",
    "    vocab = vect.vocabulary_\n",
    "\n",
    "    # sort n-gram by freq (highest -> lowest)\n",
    "    words = []\n",
    "    for b in vocab:\n",
    "        c = vocab[b]\n",
    "        #print(b, c, a[:, c].sum())\n",
    "        words.append((a[:, c].sum(), b))\n",
    "        #break\n",
    "    words = sorted(words, reverse=True)\n",
    "    words_list = [w[1] for w in words]\n",
    "    num_words = len(words_list)\n",
    "    print(\"num_words = %d\" % num_words)\n",
    "\n",
    "\n",
    "    def find_ngrams(text, n):\n",
    "        a = zip(*[text[i:] for i in range(n)])\n",
    "        wi = []\n",
    "        for i in a:\n",
    "            w = ''.join(i)\n",
    "            try:\n",
    "                idx = words_list.index(w)\n",
    "            except:\n",
    "                idx = 0\n",
    "            wi.append(idx)\n",
    "        return wi\n",
    "\n",
    "    # build X from index of n-gram sequence\n",
    "    X = np.array(tdf.domain.apply(lambda c: find_ngrams(c, NGRAMS)))\n",
    "else:\n",
    "    data = tdf.domain.str.cat()\n",
    "    chars = list(set(data))\n",
    "    data_size, vocab_size = len(data), len(chars)\n",
    "    print('data has %d characters, %d unique.' % (data_size, vocab_size))\n",
    "    char_to_ix = { ch:i for i,ch in enumerate(chars) }\n",
    "    ix_to_char = { i:ch for i,ch in enumerate(chars) }\n",
    "    num_words = vocab_size\n",
    "    X = np.array(tdf.domain.apply(lambda c: [char_to_ix[a] for a in c]))\n",
    "X"
   ]
  },
  {
   "cell_type": "code",
   "execution_count": 8,
   "metadata": {},
   "outputs": [
    {
     "name": "stdout",
     "output_type": "stream",
     "text": [
      "Max feature len = 62, Avg. feature len = 15\n"
     ]
    }
   ],
   "source": [
    "# check max/avg feature\n",
    "X_len = []\n",
    "for x in X:\n",
    "    X_len.append(len(x))\n",
    "\n",
    "max_feature_len = max(X_len)\n",
    "avg_feature_len = int(np.mean(X_len))\n",
    "\n",
    "print(\"Max feature len = %d, Avg. feature len = %d\" % (max_feature_len, avg_feature_len))"
   ]
  },
  {
   "cell_type": "code",
   "execution_count": 9,
   "metadata": {},
   "outputs": [],
   "source": [
    "y = np.array(tdf.phishing.astype('category').cat.codes)\n",
    "\n",
    "# Split train and test dataset\n",
    "X_train,  X_test, y_train, y_test = train_test_split(X, y, test_size=0.2, random_state=21, stratify=y)"
   ]
  },
  {
   "cell_type": "markdown",
   "metadata": {},
   "source": [
    "## Train a LSTM model"
   ]
  },
  {
   "cell_type": "code",
   "execution_count": 10,
   "metadata": {},
   "outputs": [
    {
     "name": "stdout",
     "output_type": "stream",
     "text": [
      "80000 train sequences\n",
      "20000 test sequences\n",
      "Pad sequences (samples x time)\n"
     ]
    },
    {
     "name": "stderr",
     "output_type": "stream",
     "text": [
      "Using TensorFlow backend.\n"
     ]
    },
    {
     "name": "stdout",
     "output_type": "stream",
     "text": [
      "X_train shape: (80000, 128)\n",
      "X_test shape: (20000, 128)\n"
     ]
    }
   ],
   "source": [
    "import keras\n",
    "from keras.preprocessing import sequence\n",
    "from keras.models import Sequential\n",
    "from keras.layers import Dense, Embedding, Dropout, Activation\n",
    "from keras.layers import LSTM\n",
    "from keras.layers.convolutional import Conv1D\n",
    "from keras.layers.convolutional import MaxPooling1D\n",
    "from keras.models import load_model\n",
    "\n",
    "max_features = num_words # 20000\n",
    "feature_len = FEATURE_LEN # avg_feature_len # cut texts after this number of words (among top max_features most common words)\n",
    "batch_size = 32\n",
    "\n",
    "print(len(X_train), 'train sequences')\n",
    "print(len(X_test), 'test sequences')\n",
    "\n",
    "print('Pad sequences (samples x time)')\n",
    "X_train = sequence.pad_sequences(X_train, maxlen=feature_len)\n",
    "X_test = sequence.pad_sequences(X_test, maxlen=feature_len)\n",
    "print('X_train shape:', X_train.shape)\n",
    "print('X_test shape:', X_test.shape)"
   ]
  },
  {
   "cell_type": "code",
   "execution_count": 11,
   "metadata": {},
   "outputs": [
    {
     "name": "stdout",
     "output_type": "stream",
     "text": [
      "Build model...\n",
      "Model: \"sequential_1\"\n",
      "_________________________________________________________________\n",
      "Layer (type)                 Output Shape              Param #   \n",
      "=================================================================\n",
      "embedding_1 (Embedding)      (None, 128, 32)           46880     \n",
      "_________________________________________________________________\n",
      "lstm_1 (LSTM)                (None, 128)               82432     \n",
      "_________________________________________________________________\n",
      "dense_1 (Dense)              (None, 1)                 129       \n",
      "=================================================================\n",
      "Total params: 129,441\n",
      "Trainable params: 129,441\n",
      "Non-trainable params: 0\n",
      "_________________________________________________________________\n",
      "None\n"
     ]
    }
   ],
   "source": [
    "print('Build model...')\n",
    "\n",
    "model = Sequential()\n",
    "model.add(Embedding(num_words, 32, input_length=feature_len))\n",
    "model.add(LSTM(128, dropout=0.2, recurrent_dropout=0.2))\n",
    "model.add(Dense(1, activation='sigmoid'))\n",
    "\n",
    "# try using different optimizers and different optimizer configs\n",
    "model.compile(loss='binary_crossentropy',\n",
    "              optimizer='adam',\n",
    "              metrics=['accuracy'])\n",
    "print(model.summary())"
   ]
  },
  {
   "cell_type": "code",
   "execution_count": 12,
   "metadata": {},
   "outputs": [
    {
     "name": "stdout",
     "output_type": "stream",
     "text": [
      "Train...\n"
     ]
    },
    {
     "name": "stderr",
     "output_type": "stream",
     "text": [
      "/opt/venv37/lib/python3.7/site-packages/tensorflow_core/python/framework/indexed_slices.py:433: UserWarning: Converting sparse IndexedSlices to a dense Tensor of unknown shape. This may consume a large amount of memory.\n",
      "  \"Converting sparse IndexedSlices to a dense Tensor of unknown shape. \"\n"
     ]
    },
    {
     "name": "stdout",
     "output_type": "stream",
     "text": [
      "Train on 72000 samples, validate on 8000 samples\n",
      "Epoch 1/15\n",
      "72000/72000 [==============================] - 344s 5ms/step - loss: 0.4095 - accuracy: 0.8047 - val_loss: 0.3652 - val_accuracy: 0.8364\n",
      "Epoch 2/15\n",
      "72000/72000 [==============================] - 348s 5ms/step - loss: 0.3748 - accuracy: 0.8241 - val_loss: 0.3598 - val_accuracy: 0.8381\n",
      "Epoch 3/15\n",
      "72000/72000 [==============================] - 345s 5ms/step - loss: 0.3648 - accuracy: 0.8303 - val_loss: 0.3552 - val_accuracy: 0.8354\n",
      "Epoch 4/15\n",
      "72000/72000 [==============================] - 339s 5ms/step - loss: 0.3581 - accuracy: 0.8322 - val_loss: 0.3512 - val_accuracy: 0.8382\n",
      "Epoch 5/15\n",
      "72000/72000 [==============================] - 337s 5ms/step - loss: 0.3505 - accuracy: 0.8357 - val_loss: 0.3500 - val_accuracy: 0.8404\n",
      "Epoch 6/15\n",
      "72000/72000 [==============================] - 332s 5ms/step - loss: 0.3436 - accuracy: 0.8390 - val_loss: 0.3490 - val_accuracy: 0.8422\n",
      "Epoch 7/15\n",
      "72000/72000 [==============================] - 319s 4ms/step - loss: 0.3385 - accuracy: 0.8426 - val_loss: 0.3501 - val_accuracy: 0.8432\n",
      "Epoch 8/15\n",
      "72000/72000 [==============================] - 325s 5ms/step - loss: 0.3336 - accuracy: 0.8435 - val_loss: 0.3469 - val_accuracy: 0.8459\n",
      "Epoch 9/15\n",
      "72000/72000 [==============================] - 319s 4ms/step - loss: 0.3379 - accuracy: 0.8433 - val_loss: 0.3559 - val_accuracy: 0.8409\n",
      "Epoch 10/15\n",
      "72000/72000 [==============================] - 323s 4ms/step - loss: 0.3274 - accuracy: 0.8477 - val_loss: 0.3531 - val_accuracy: 0.8391\n",
      "Epoch 11/15\n",
      "72000/72000 [==============================] - 318s 4ms/step - loss: 0.3231 - accuracy: 0.8498 - val_loss: 0.3553 - val_accuracy: 0.8411\n",
      "Epoch 12/15\n",
      "72000/72000 [==============================] - 320s 4ms/step - loss: 0.3196 - accuracy: 0.8519 - val_loss: 0.3525 - val_accuracy: 0.8425\n",
      "Epoch 13/15\n",
      "72000/72000 [==============================] - 319s 4ms/step - loss: 0.3148 - accuracy: 0.8546 - val_loss: 0.3557 - val_accuracy: 0.8432\n",
      "Epoch 14/15\n",
      "72000/72000 [==============================] - 318s 4ms/step - loss: 0.3116 - accuracy: 0.8572 - val_loss: 0.3562 - val_accuracy: 0.8426\n",
      "Epoch 15/15\n",
      "72000/72000 [==============================] - 324s 5ms/step - loss: 0.3084 - accuracy: 0.8590 - val_loss: 0.3529 - val_accuracy: 0.8435\n",
      "20000/20000 [==============================] - 26s 1ms/step\n",
      "Test score: 0.3667572125196457\n",
      "Test accuracy: 0.8331999778747559\n"
     ]
    }
   ],
   "source": [
    "print('Train...')\n",
    "model.fit(X_train, y_train, batch_size=batch_size, epochs=EPOCHS,\n",
    "          validation_split=0.1, verbose=1)\n",
    "score, acc = model.evaluate(X_test, y_test,\n",
    "                            batch_size=batch_size, verbose=1)\n",
    "print('Test score:', score)\n",
    "print('Test accuracy:', acc)"
   ]
  },
  {
   "cell_type": "markdown",
   "metadata": {},
   "source": [
    "## Confusion Matrix"
   ]
  },
  {
   "cell_type": "code",
   "execution_count": 13,
   "metadata": {},
   "outputs": [
    {
     "name": "stdout",
     "output_type": "stream",
     "text": [
      "20000/20000 [==============================] - 26s 1ms/step\n",
      "20000/20000 [==============================] - 26s 1ms/step\n"
     ]
    }
   ],
   "source": [
    "y_pred = model.predict_classes(X_test, verbose=1)\n",
    "y_probs = model.predict_proba(X_test, verbose=1) # to predict probability\n",
    "target_names = list(tdf.phishing.astype('category').cat.categories)"
   ]
  },
  {
   "cell_type": "code",
   "execution_count": 14,
   "metadata": {},
   "outputs": [
    {
     "name": "stdout",
     "output_type": "stream",
     "text": [
      "              precision    recall  f1-score   support\n",
      "\n",
      "       False       0.79      0.90      0.84     10000\n",
      "        True       0.89      0.76      0.82     10000\n",
      "\n",
      "    accuracy                           0.83     20000\n",
      "   macro avg       0.84      0.83      0.83     20000\n",
      "weighted avg       0.84      0.83      0.83     20000\n",
      "\n",
      "[[9021  979]\n",
      " [2357 7643]]\n"
     ]
    }
   ],
   "source": [
    "target_names = [str(t) for t in target_names]\n",
    "print(classification_report(y_test, y_pred, target_names=target_names))\n",
    "print(confusion_matrix(y_test, y_pred))    "
   ]
  },
  {
   "cell_type": "markdown",
   "metadata": {},
   "source": [
    "## Train a Random Forest Model"
   ]
  },
  {
   "cell_type": "code",
   "execution_count": 15,
   "metadata": {},
   "outputs": [
    {
     "data": {
      "text/plain": [
       "RandomForestClassifier(bootstrap=True, ccp_alpha=0.0, class_weight=None,\n",
       "                       criterion='gini', max_depth=None, max_features='sqrt',\n",
       "                       max_leaf_nodes=None, max_samples=None,\n",
       "                       min_impurity_decrease=0.0, min_impurity_split=None,\n",
       "                       min_samples_leaf=1, min_samples_split=2,\n",
       "                       min_weight_fraction_leaf=0.0, n_estimators=100,\n",
       "                       n_jobs=None, oob_score=False, random_state=None,\n",
       "                       verbose=0, warm_start=False)"
      ]
     },
     "execution_count": 15,
     "metadata": {},
     "output_type": "execute_result"
    }
   ],
   "source": [
    "from sklearn.ensemble import RandomForestClassifier\n",
    "\n",
    "# Create the model with 100 trees\n",
    "rf_model = RandomForestClassifier(n_estimators=100, \n",
    "                                  bootstrap = True,\n",
    "                                  max_features = 'sqrt')\n",
    "# Fit on training data\n",
    "rf_model.fit(X_train, y_train)"
   ]
  },
  {
   "cell_type": "code",
   "execution_count": 16,
   "metadata": {},
   "outputs": [],
   "source": [
    "# Actual class predictions\n",
    "rf_y_pred = rf_model.predict(X_test)\n",
    "# Probabilities for each class\n",
    "rf_y_probs = rf_model.predict_proba(X_test)[:, 1]"
   ]
  },
  {
   "cell_type": "markdown",
   "metadata": {},
   "source": [
    "## Confusion Matrix"
   ]
  },
  {
   "cell_type": "code",
   "execution_count": 17,
   "metadata": {},
   "outputs": [],
   "source": [
    "p = rf_y_probs\n",
    "target_names = list(tdf.phishing.astype('category').cat.categories)"
   ]
  },
  {
   "cell_type": "code",
   "execution_count": 18,
   "metadata": {},
   "outputs": [
    {
     "name": "stdout",
     "output_type": "stream",
     "text": [
      "              precision    recall  f1-score   support\n",
      "\n",
      "       False       0.79      0.85      0.82     10000\n",
      "        True       0.84      0.78      0.81     10000\n",
      "\n",
      "    accuracy                           0.82     20000\n",
      "   macro avg       0.82      0.82      0.81     20000\n",
      "weighted avg       0.82      0.82      0.81     20000\n",
      "\n",
      "[[8535 1465]\n",
      " [2231 7769]]\n"
     ]
    }
   ],
   "source": [
    "target_names = [str(t) for t in target_names]\n",
    "print(classification_report(y_test, rf_y_pred, target_names=target_names))\n",
    "print(confusion_matrix(y_test, rf_y_pred))"
   ]
  },
  {
   "cell_type": "markdown",
   "metadata": {},
   "source": [
    "## Train an SVM Model"
   ]
  },
  {
   "cell_type": "code",
   "execution_count": 19,
   "metadata": {},
   "outputs": [
    {
     "data": {
      "text/plain": [
       "SVC(C=1.0, break_ties=False, cache_size=200, class_weight=None, coef0=0.0,\n",
       "    decision_function_shape='ovr', degree=3, gamma='scale', kernel='rbf',\n",
       "    max_iter=-1, probability=True, random_state=None, shrinking=True, tol=0.001,\n",
       "    verbose=False)"
      ]
     },
     "execution_count": 19,
     "metadata": {},
     "output_type": "execute_result"
    }
   ],
   "source": [
    "from sklearn import svm\n",
    "\n",
    "svc_model = svm.SVC(probability=True)\n",
    "# Fit on training data\n",
    "svc_model.fit(X_train, y_train)"
   ]
  },
  {
   "cell_type": "code",
   "execution_count": 20,
   "metadata": {},
   "outputs": [],
   "source": [
    "# Actual class predictions\n",
    "svc_y_pred = svc_model.predict(X_test)\n",
    "# Probabilities for each class\n",
    "svc_y_probs = svc_model.predict_proba(X_test)[:, 1]"
   ]
  },
  {
   "cell_type": "markdown",
   "metadata": {},
   "source": [
    "## Confusion Matrix"
   ]
  },
  {
   "cell_type": "code",
   "execution_count": 21,
   "metadata": {},
   "outputs": [],
   "source": [
    "p = svc_y_probs\n",
    "target_names = list(tdf.phishing.astype('category').cat.categories)"
   ]
  },
  {
   "cell_type": "code",
   "execution_count": 22,
   "metadata": {},
   "outputs": [
    {
     "name": "stdout",
     "output_type": "stream",
     "text": [
      "              precision    recall  f1-score   support\n",
      "\n",
      "       False       0.70      0.81      0.75     10000\n",
      "        True       0.77      0.66      0.71     10000\n",
      "\n",
      "    accuracy                           0.73     20000\n",
      "   macro avg       0.74      0.73      0.73     20000\n",
      "weighted avg       0.74      0.73      0.73     20000\n",
      "\n",
      "[[9021  979]\n",
      " [2357 7643]]\n"
     ]
    }
   ],
   "source": [
    "target_names = [str(t) for t in target_names]\n",
    "print(classification_report(y_test, svc_y_pred, target_names=target_names))\n",
    "print(confusion_matrix(y_test, y_pred))    "
   ]
  },
  {
   "cell_type": "code",
   "execution_count": 23,
   "metadata": {},
   "outputs": [],
   "source": [
    "import matplotlib.pyplot as plt\n",
    "#from sklearn.metrics import plot_roc_curve\n",
    "from sklearn.metrics import roc_curve, roc_auc_score\n",
    "\n",
    "lstm_fpr, lstm_tpr, lstm_thresholds = roc_curve ( y_test , y_probs)\n",
    "rf_fpr, rf_tpr, rf_thresholds = roc_curve ( y_test , rf_y_probs)\n",
    "svc_fpr, svc_tpr, svc_thresholds = roc_curve ( y_test , svc_y_probs)"
   ]
  },
  {
   "cell_type": "code",
   "execution_count": 24,
   "metadata": {},
   "outputs": [
    {
     "data": {
      "text/plain": [
       "(0.9089830900000001, 0.8877847, 0.7978119600000001)"
      ]
     },
     "execution_count": 24,
     "metadata": {},
     "output_type": "execute_result"
    }
   ],
   "source": [
    "lstm_auc = roc_auc_score(y_test, y_probs)\n",
    "rf_auc = roc_auc_score(y_test, rf_y_probs)\n",
    "svc_auc = roc_auc_score(y_test, svc_y_probs)\n",
    "lstm_auc, rf_auc, svc_auc"
   ]
  },
  {
   "cell_type": "code",
   "execution_count": 25,
   "metadata": {},
   "outputs": [
    {
     "data": {
      "image/png": "[encoded data removed]",
      "text/plain": [
       "<Figure size 864x576 with 1 Axes>"
      ]
     },
     "metadata": {
      "needs_background": "light"
     },
     "output_type": "display_data"
    }
   ],
   "source": [
    "plt.figure(1, figsize=(12, 8))\n",
    "plt.plot([0, 1], [0, 1], 'k--')\n",
    "plt.plot(lstm_fpr, lstm_tpr, label='LSTM (area = {:.3f})'.format(lstm_auc))\n",
    "plt.plot(rf_fpr, rf_tpr, label='RF (area = {:.3f})'.format(rf_auc))\n",
    "plt.plot(svc_fpr, svc_tpr, label='SVC (area = {:.3f})'.format(svc_auc))\n",
    "plt.xlabel('False positive rate')\n",
    "plt.ylabel('True positive rate')\n",
    "plt.title('ROC curve')\n",
    "plt.legend(loc='best')\n",
    "plt.show()"
   ]
  },
  {
   "cell_type": "markdown",
   "metadata": {},
   "source": [
    "## Save model"
   ]
  },
  {
   "cell_type": "code",
   "execution_count": 26,
   "metadata": {},
   "outputs": [],
   "source": [
    "model.save('./models/phish_cat_lstm_2016.h5')"
   ]
  },
  {
   "cell_type": "code",
   "execution_count": 27,
   "metadata": {},
   "outputs": [],
   "source": [
    "words_df = pd.DataFrame(words_list, columns=['vocab'])\n",
    "words_df.to_csv('./models/phish_cat_vocab_2016.csv', index=False, encoding='utf-8')"
   ]
  },
  {
   "cell_type": "code",
   "execution_count": 28,
   "metadata": {},
   "outputs": [],
   "source": [
    "import pickle\n",
    "\n",
    "pickle.dump(rf_model, open('./models/phish_cat_2016_rf.pickle', 'wb'))\n",
    "pickle.dump(svc_model, open('./models/phish_cat_2016_svm.pickle', 'wb'))"
   ]
  }
 ],
 "metadata": {
  "kernelspec": {
   "display_name": "Python 3",
   "language": "python",
   "name": "python3"
  },
  "language_info": {
   "codemirror_mode": {
    "name": "ipython",
    "version": 3
   },
   "file_extension": ".py",
   "mimetype": "text/x-python",
   "name": "python",
   "nbconvert_exporter": "python",
   "pygments_lexer": "ipython3",
   "version": "3.7.7"
  }
 },
 "nbformat": 4,
 "nbformat_minor": 2
}
